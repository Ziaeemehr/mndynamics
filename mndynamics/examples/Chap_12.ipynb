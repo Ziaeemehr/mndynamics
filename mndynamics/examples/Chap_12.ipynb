{
 "cells": [
  {
   "cell_type": "markdown",
   "metadata": {},
   "source": [
    "#### [Chapter 12](https://github.com/Ziaeemehr/mndynamics/blob/main/mndynamics/examples/Chap_12.ipynb)\n",
    "<!-- - [![Binder](https://mybinder.org/badge_logo.svg)](https://mybinder.org/v2/gh/Ziaeemehr/mndynamics/main?labpath=mndynamics%2Fexamples%2FChap_12.ipynb) -->\n",
    "\n",
    "**Model Neurons of Bifurcation Type 1**\n",
    "\n",
    "- Börgers, C., 2017. An introduction to modeling neuronal dynamics (Vol. 66). Berlin: Springer.\n",
    "\n",
    "Code by : Abolfazl Ziaeemehr ([GitHub](https://github.com/Ziaeemehr))\n",
    "\n",
    "<a href=\"https://colab.research.google.com/github/Ziaeemehr/mndynamics/blob/main/mndynamics/examples/Chap_12.ipynb\" target=\"_parent\"><img src=\"https://colab.research.google.com/assets/colab-badge.svg\" alt=\"Open In Colab\"/></a>"
   ]
  },
  {
   "cell_type": "code",
   "execution_count": null,
   "metadata": {},
   "outputs": [],
   "source": [
    "# uncomment and run this line to install the package\n",
    "# !pip install mndynamics"
   ]
  },
  {
   "cell_type": "code",
   "execution_count": 1,
   "metadata": {},
   "outputs": [],
   "source": [
    "import numpy as np\n",
    "import matplotlib.pyplot as plt\n",
    "from mndynamics.models.py.RTM_Base import RTM_2D "
   ]
  },
  {
   "cell_type": "code",
   "execution_count": 2,
   "metadata": {},
   "outputs": [],
   "source": [
    "plt.rcParams['figure.figsize'] = [6, 4]\n",
    "plt.rcParams['axes.labelsize'] = 16\n",
    "plt.rcParams['font.size'] = 16\n",
    "plt.style.use('seaborn-whitegrid')"
   ]
  },
  {
   "cell_type": "code",
   "execution_count": 5,
   "metadata": {},
   "outputs": [
    {
     "name": "stdout",
     "output_type": "stream",
     "text": [
      "Reduced 2-dimensional Traub-Miles Model of a Pyramidal Neuron in Rat Hippocampus\n"
     ]
    },
    {
     "data": {
      "text/plain": [
       "{'c': 1.0,\n",
       " 'g_k': 80.0,\n",
       " 'g_na': 100.0,\n",
       " 'g_l': 0.1,\n",
       " 'v_k': -100.0,\n",
       " 'v_na': 50.0,\n",
       " 'v_l': -67.0,\n",
       " 'i_ext': 1.5,\n",
       " 't_end': 100.0,\n",
       " 'v0': -70.0,\n",
       " 'dt': 0.01}"
      ]
     },
     "execution_count": 5,
     "metadata": {},
     "output_type": "execute_result"
    }
   ],
   "source": [
    "obj = RTM_2D()\n",
    "obj()"
   ]
  },
  {
   "cell_type": "code",
   "execution_count": 3,
   "metadata": {},
   "outputs": [
    {
     "data": {
      "image/png": "[encoded data removed]",
      "text/plain": [
       "<Figure size 432x288 with 1 Axes>"
      ]
     },
     "metadata": {},
     "output_type": "display_data"
    }
   ],
   "source": [
    "i_ext_vec = np.linspace(0, 0.2, 100)\n",
    "\n",
    "obj = RTM_2D()\n",
    "stability = obj.simulate_bif(i_ext_vec)\n",
    "obj.plot_bif(stability, ax=plt.gca())\n",
    "plt.margins(x=0)\n"
   ]
  },
  {
   "cell_type": "code",
   "execution_count": 4,
   "metadata": {},
   "outputs": [
    {
     "name": "stdout",
     "output_type": "stream",
     "text": [
      "dict_keys(['stable', 'unstable', 'saddle', 'stable spiral', 'unstable spiral'])\n",
      "[[ 0.00000000e+00 -6.19342860e+01]\n",
      " [ 2.02020202e-03 -6.19469485e+01]\n",
      " [ 4.04040404e-03 -6.19597379e+01]\n",
      " [ 6.06060606e-03 -6.19726574e+01]\n",
      " [ 8.08080808e-03 -6.19857103e+01]]\n"
     ]
    }
   ],
   "source": [
    "print(stability.keys())\n",
    "print(stability['saddle'][:5]) # column 0 is i_ext, column 1 is v"
   ]
  },
  {
   "cell_type": "code",
   "execution_count": null,
   "metadata": {},
   "outputs": [],
   "source": []
  }
 ],
 "metadata": {
  "kernelspec": {
   "display_name": "Python 3.8.13 ('adaptiv_sync')",
   "language": "python",
   "name": "python3"
  },
  "language_info": {
   "codemirror_mode": {
    "name": "ipython",
    "version": 3
   },
   "file_extension": ".py",
   "mimetype": "text/x-python",
   "name": "python",
   "nbconvert_exporter": "python",
   "pygments_lexer": "ipython3",
   "version": "3.8.13"
  },
  "orig_nbformat": 4,
  "vscode": {
   "interpreter": {
    "hash": "8126bcdcce999c63abd0862cb75989290bd292d4682c4523e3665b3904000a96"
   }
  }
 },
 "nbformat": 4,
 "nbformat_minor": 2
}
