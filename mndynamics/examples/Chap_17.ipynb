{
 "cells": [
  {
   "cell_type": "markdown",
   "metadata": {},
   "source": [
    "#### [Chapter 17](https://github.com/Ziaeemehr/mndynamics/blob/main/mndynamics/examples/Chap_17.ipynb)\n",
    "<!-- - [![Binder](https://mybinder.org/badge_logo.svg)](https://mybinder.org/v2/gh/Ziaeemehr/mndynamics/main?labpath=mndynamics%2Fexamples%2FChap_17.ipynb) -->\n",
    "\n",
    "**Frequency-Current Curves**\n",
    "\n",
    "- Börgers, C., 2017. An introduction to modeling neuronal dynamics (Vol. 66). Berlin: Springer.\n",
    "\n",
    "Code by : Abolfazl Ziaeemehr ([GitHub](https://github.com/Ziaeemehr))"
   ]
  },
  {
   "cell_type": "code",
   "execution_count": 37,
   "metadata": {},
   "outputs": [],
   "source": [
    "import os\n",
    "import warnings\n",
    "import numpy as np \n",
    "import matplotlib.pyplot as plt\n",
    "from mndynamics.models.py.HH_Base import HH_F_I_CURVE\n",
    "\n",
    "warnings.filterwarnings(\"ignore\")\n",
    "\n",
    "if not os.path.exists('output'):\n",
    "    os.makedirs('output')"
   ]
  },
  {
   "cell_type": "code",
   "execution_count": 6,
   "metadata": {},
   "outputs": [],
   "source": [
    "plt.rcParams['font.size'] = 16\n",
    "plt.rcParams['axes.labelsize'] = 16\n",
    "plt.rcParams['figure.figsize'] = [7, 5]"
   ]
  },
  {
   "cell_type": "code",
   "execution_count": 13,
   "metadata": {},
   "outputs": [
    {
     "name": "stdout",
     "output_type": "stream",
     "text": [
      "F-I Curve Hudgkin Huxley Model\n"
     ]
    },
    {
     "data": {
      "text/plain": [
       "{'c': 1.0,\n",
       " 'g_k': 36.0,\n",
       " 'g_na': 120.0,\n",
       " 'g_l': 0.3,\n",
       " 'v_k': -82.0,\n",
       " 'v_na': 45.0,\n",
       " 'v_l': -59.0,\n",
       " 'v_thr': -20.0,\n",
       " 'i_ext': 7.0,\n",
       " 't_end': 3000,\n",
       " 'v0': -70.0,\n",
       " 'dt': 0.05}"
      ]
     },
     "execution_count": 13,
     "metadata": {},
     "output_type": "execute_result"
    }
   ],
   "source": [
    "obj = HH_F_I_CURVE({'t_end':3000, 'dt':0.05})\n",
    "obj()"
   ]
  },
  {
   "cell_type": "code",
   "execution_count": 14,
   "metadata": {},
   "outputs": [
    {
     "name": "stdout",
     "output_type": "stream",
     "text": [
      "I =     3.000, f =      0.00\n",
      "I =     3.455, f =      0.00\n",
      "I =     3.909, f =      0.00\n",
      "I =     4.364, f =      0.00\n",
      "I =     4.818, f =      0.00\n",
      "I =     5.273, f =      0.00\n",
      "I =     5.727, f =      0.00\n",
      "I =     6.182, f =      0.00\n",
      "I =     6.636, f =      0.00\n",
      "I =     7.091, f =      0.00\n",
      "I =     7.545, f =      0.00\n",
      "I =     8.000, f =      0.00\n",
      "I =     8.455, f =      0.00\n",
      "I =     8.909, f =      0.00\n",
      "I =     9.364, f =      0.00\n"
     ]
    }
   ],
   "source": [
    "vec_i_ext = np.linspace(3, 13, 23)\n",
    "data = obj.simulate_F_I(vec_i_ext)"
   ]
  },
  {
   "cell_type": "code",
   "execution_count": null,
   "metadata": {},
   "outputs": [],
   "source": [
    "np.savez(\"data_HH.npz\",\n",
    "         forward=data['forward'],\n",
    "         backward=data['backward'],\n",
    "         i_ext=data['i_ext'])\n",
    "data = np.load(\"data_HH.npz\")"
   ]
  },
  {
   "cell_type": "code",
   "execution_count": null,
   "metadata": {},
   "outputs": [
    {
     "data": {
      "image/png": "[encoded data removed]",
      "text/plain": [
       "<Figure size 504x360 with 1 Axes>"
      ]
     },
     "metadata": {
      "needs_background": "light"
     },
     "output_type": "display_data"
    }
   ],
   "source": [
    "obj.plot_F_I(data);"
   ]
  },
  {
   "cell_type": "code",
   "execution_count": 39,
   "metadata": {},
   "outputs": [
    {
     "data": {
      "text/plain": [
       "(0.0, 150.0)"
      ]
     },
     "execution_count": 39,
     "metadata": {},
     "output_type": "execute_result"
    },
    {
     "data": {
      "image/png": "[encoded data removed]",
      "text/plain": [
       "<Figure size 504x252 with 1 Axes>"
      ]
     },
     "metadata": {
      "needs_background": "light"
     },
     "output_type": "display_data"
    }
   ],
   "source": [
    "# LIF neuron\n",
    "\n",
    "N = 1000\n",
    "tau_m = 10.0\n",
    "x = np.arange(0, 1, 0.001)\n",
    "\n",
    "N = 1000\n",
    "ind = np.arange(0, N, 1.)\n",
    "I = 0.1+np.exp(-N/ind)*np.exp(1)*0.1\n",
    "\n",
    "T = tau_m * np.log(tau_m * I / (tau_m * I - 1))\n",
    "freq = 1000.0 / T\n",
    "\n",
    "plt.figure(figsize=(7, 3.5))\n",
    "plt.plot(I, freq, 'k', lw=2)\n",
    "plt.plot([0, 0.1], [0, 0], 'k', lw=4)\n",
    "plt.xlabel('I')\n",
    "plt.ylabel('frequency [Hz]')\n",
    "plt.xticks([0, 0.1, 0.2])\n",
    "plt.xlim(0,0.2)\n",
    "plt.ylim(0, 150)\n"
   ]
  },
  {
   "cell_type": "code",
   "execution_count": 21,
   "metadata": {},
   "outputs": [
    {
     "data": {
      "text/plain": [
       "2.718281828459045"
      ]
     },
     "execution_count": 21,
     "metadata": {},
     "output_type": "execute_result"
    }
   ],
   "source": [
    "np.exp(1)"
   ]
  },
  {
   "cell_type": "code",
   "execution_count": 1,
   "metadata": {},
   "outputs": [],
   "source": [
    "%load_ext autoreload\n",
    "%autoreload 2\n",
    "import numpy as np \n",
    "import matplotlib.pyplot as plt\n",
    "from mndynamics.models.py.RTM_Base import RTM_F_I_CURVE"
   ]
  },
  {
   "cell_type": "code",
   "execution_count": 2,
   "metadata": {},
   "outputs": [
    {
     "name": "stdout",
     "output_type": "stream",
     "text": [
      "F-I Curve RTM Model\n",
      "Reduced Traub-Miles Model of a Pyramidal Neuron in Rat Hippocampus\n"
     ]
    },
    {
     "data": {
      "text/plain": [
       "{'c': 1.0,\n",
       " 'g_k': 80.0,\n",
       " 'g_na': 100.0,\n",
       " 'g_l': 0.1,\n",
       " 'v_k': -100.0,\n",
       " 'v_na': 50.0,\n",
       " 'v_l': -67.0,\n",
       " 'v_thr': -20.0,\n",
       " 'i_ext': 1.5,\n",
       " 't_end': 5000,\n",
       " 'v0': -70.0,\n",
       " 'dt': 0.05}"
      ]
     },
     "execution_count": 2,
     "metadata": {},
     "output_type": "execute_result"
    }
   ],
   "source": [
    "obj = RTM_F_I_CURVE({'t_end':5000, 'dt':0.05})\n",
    "obj()"
   ]
  },
  {
   "cell_type": "code",
   "execution_count": 3,
   "metadata": {},
   "outputs": [
    {
     "name": "stderr",
     "output_type": "stream",
     "text": [
      "forward: 100%|██████████| 30/30 [01:20<00:00,  2.68s/it]\n",
      "backward: 100%|██████████| 30/30 [01:23<00:00,  2.79s/it]\n"
     ]
    }
   ],
   "source": [
    "vec_i_ext = np.linspace(0, 1.0, 30)\n",
    "data = obj.simulate_F_I(vec_i_ext)"
   ]
  },
  {
   "cell_type": "code",
   "execution_count": 4,
   "metadata": {},
   "outputs": [],
   "source": [
    "np.savez(\"output/data_RTM.npz\",\n",
    "         forward=data['forward'],\n",
    "         backward=data['backward'],\n",
    "         i_ext=data['i_ext'])\n",
    "data = np.load(\"output/data_RTM.npz\")"
   ]
  },
  {
   "cell_type": "code",
   "execution_count": 7,
   "metadata": {},
   "outputs": [
    {
     "name": "stdout",
     "output_type": "stream",
     "text": [
      "The autoreload extension is already loaded. To reload it, use:\n",
      "  %reload_ext autoreload\n"
     ]
    },
    {
     "data": {
      "image/png": "[encoded data removed]",
      "text/plain": [
       "<Figure size 504x360 with 1 Axes>"
      ]
     },
     "metadata": {
      "needs_background": "light"
     },
     "output_type": "display_data"
    }
   ],
   "source": [
    "# %load_ext autoreload\n",
    "# %autoreload 2\n",
    "# from mndynamics.models.py.RTM_Base import RTM_F_I_CURVE\n",
    "# obj = RTM_F_I_CURVE({'t_end':5000, 'dt':0.05})\n",
    "obj.plot_F_I(data);"
   ]
  },
  {
   "cell_type": "code",
   "execution_count": 27,
   "metadata": {},
   "outputs": [
    {
     "data": {
      "image/png": "[encoded data removed]",
      "text/plain": [
       "<Figure size 504x252 with 1 Axes>"
      ]
     },
     "metadata": {
      "needs_background": "light"
     },
     "output_type": "display_data"
    }
   ],
   "source": [
    "# Theta neuron\n",
    "I = 0.5 + np.linspace(0, 0.1, 200)\n",
    "f = 1000.0 * np.sqrt(2*I -1) / np.pi\n",
    "\n",
    "plt.figure(figsize=(7, 3.5))\n",
    "plt.plot(I, f, 'k', lw=2)\n",
    "plt.plot([0.4,0.5], [0,0], 'k', lw=4)\n",
    "plt.xlabel('I')\n",
    "plt.ylabel('frequency')\n",
    "plt.xlim(0.4, 0.6)\n",
    "plt.ylim(0, 150)\n",
    "plt.tick_params(labelsize=16)\n",
    "plt.xticks([0.4, 0.5, 0.6]);\n"
   ]
  },
  {
   "cell_type": "code",
   "execution_count": null,
   "metadata": {},
   "outputs": [],
   "source": []
  }
 ],
 "metadata": {
  "kernelspec": {
   "display_name": "Python 3.8.13 ('adaptiv_sync')",
   "language": "python",
   "name": "python3"
  },
  "language_info": {
   "codemirror_mode": {
    "name": "ipython",
    "version": 3
   },
   "file_extension": ".py",
   "mimetype": "text/x-python",
   "name": "python",
   "nbconvert_exporter": "python",
   "pygments_lexer": "ipython3",
   "version": "3.8.13"
  },
  "orig_nbformat": 4,
  "vscode": {
   "interpreter": {
    "hash": "8126bcdcce999c63abd0862cb75989290bd292d4682c4523e3665b3904000a96"
   }
  }
 },
 "nbformat": 4,
 "nbformat_minor": 2
}
