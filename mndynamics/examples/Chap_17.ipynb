{
 "cells": [
  {
   "cell_type": "markdown",
   "metadata": {},
   "source": [
    "#### [Chapter 17](https://github.com/Ziaeemehr/mndynamics/blob/main/mndynamics/examples/Chap_17.ipynb)\n",
    "<!-- - [![Binder](https://mybinder.org/badge_logo.svg)](https://mybinder.org/v2/gh/Ziaeemehr/mndynamics/main?labpath=mndynamics%2Fexamples%2FChap_17.ipynb) -->\n",
    "\n",
    "**Frequency-Current Curves**\n",
    "\n",
    "- Börgers, C., 2017. An introduction to modeling neuronal dynamics (Vol. 66). Berlin: Springer.\n",
    "\n",
    "Code by : Abolfazl Ziaeemehr ([GitHub](https://github.com/Ziaeemehr))"
   ]
  },
  {
   "cell_type": "code",
   "execution_count": 1,
   "metadata": {},
   "outputs": [],
   "source": [
    "import numpy as np \n",
    "import matplotlib.pyplot as plt\n",
    "from mndynamics.models.py.HH_Base import HH_F_I_CURVE"
   ]
  },
  {
   "cell_type": "code",
   "execution_count": 2,
   "metadata": {},
   "outputs": [],
   "source": [
    "plt.rcParams['font.size'] = 16\n",
    "plt.rcParams['axes.labelsize'] = 16\n",
    "plt.rcParams['figure.figsize'] = [7, 5]"
   ]
  },
  {
   "cell_type": "code",
   "execution_count": 3,
   "metadata": {},
   "outputs": [
    {
     "name": "stdout",
     "output_type": "stream",
     "text": [
      "F-I Curve Hudgkin Huxley Model\n"
     ]
    },
    {
     "data": {
      "text/plain": [
       "{'c': 1.0,\n",
       " 'g_k': 36.0,\n",
       " 'g_na': 120.0,\n",
       " 'g_l': 0.3,\n",
       " 'v_k': -82.0,\n",
       " 'v_na': 45.0,\n",
       " 'v_l': -59.0,\n",
       " 'v_thr': -20.0,\n",
       " 'i_ext': 7.0,\n",
       " 't_end': 3000,\n",
       " 'v0': -70.0,\n",
       " 'dt': 0.05}"
      ]
     },
     "execution_count": 3,
     "metadata": {},
     "output_type": "execute_result"
    }
   ],
   "source": [
    "obj = HH_F_I_CURVE({'t_end':3000, 'dt':0.05})\n",
    "obj()"
   ]
  },
  {
   "cell_type": "code",
   "execution_count": 4,
   "metadata": {},
   "outputs": [
    {
     "name": "stdout",
     "output_type": "stream",
     "text": [
      "I =     3.000, f =      0.00\n",
      "I =     3.455, f =      0.00\n",
      "I =     3.909, f =      0.00\n",
      "I =     4.364, f =      0.00\n",
      "I =     4.818, f =      0.00\n",
      "I =     5.273, f =      0.00\n",
      "I =     5.727, f =      0.00\n",
      "I =     6.182, f =      0.00\n",
      "I =     6.636, f =      0.00\n",
      "I =     7.091, f =      0.00\n",
      "I =     7.545, f =      0.00\n",
      "I =     8.000, f =      0.00\n",
      "I =     8.455, f =      0.00\n",
      "I =     8.909, f =      0.00\n",
      "I =     9.364, f =      0.00\n",
      "I =     9.818, f =     68.36, t =        267.565489\n",
      "I =    10.273, f =     69.12, t =         54.382958\n",
      "I =    10.727, f =     70.48, t =         55.503363\n",
      "I =    11.182, f =     71.46, t =         53.436262\n",
      "I =    11.636, f =     72.53, t =         49.917553\n",
      "I =    12.091, f =     73.70, t =         46.665361\n",
      "I =    12.545, f =     74.42, t =         45.112065\n",
      "I =    13.000, f =     75.20, t =         46.665323\n",
      "I =    13.000, f =     75.21, t =         41.823534\n",
      "I =    12.545, f =     74.41, t =         48.736602\n",
      "I =    12.091, f =     73.17, t =         51.630427\n",
      "I =    11.636, f =     72.54, t =         51.617210\n",
      "I =    11.182, f =     71.46, t =         50.040046\n",
      "I =    10.727, f =     70.48, t =         48.305866\n",
      "I =    10.273, f =     69.60, t =         48.216593\n",
      "I =     9.818, f =     68.36, t =         51.307887\n",
      "I =     9.364, f =     66.81, t =         45.280033\n",
      "I =     8.909, f =     65.45, t =         47.891032\n",
      "I =     8.455, f =     64.68, t =         47.258733\n",
      "I =     8.000, f =     62.91, t =         47.883708\n",
      "I =     7.545, f =     61.47, t =         56.362978\n",
      "I =     7.091, f =     59.01, t =         63.646580\n",
      "I =     6.636, f =     57.03, t =         66.608614\n",
      "I =     6.182, f =     52.35, t =         57.293745\n",
      "I =     5.727, f =      0.00\n",
      "I =     5.273, f =      0.00\n",
      "I =     4.818, f =      0.00\n",
      "I =     4.364, f =      0.00\n",
      "I =     3.909, f =      0.00\n",
      "I =     3.455, f =      0.00\n",
      "I =     3.000, f =      0.00\n"
     ]
    }
   ],
   "source": [
    "vec_i_ext = np.linspace(3, 13, 23)\n",
    "data = obj.simulate_F_I(vec_i_ext)"
   ]
  },
  {
   "cell_type": "code",
   "execution_count": 5,
   "metadata": {},
   "outputs": [],
   "source": [
    "# data"
   ]
  },
  {
   "cell_type": "code",
   "execution_count": 6,
   "metadata": {},
   "outputs": [],
   "source": [
    "np.savez(\"data.npz\",\n",
    "         forward=data['forward'],\n",
    "         backward=data['backward'],\n",
    "         i_ext=data['i_ext'])\n",
    "data = np.load(\"data.npz\")"
   ]
  },
  {
   "cell_type": "code",
   "execution_count": 7,
   "metadata": {},
   "outputs": [
    {
     "data": {
      "image/png": "[encoded data removed]",
      "text/plain": [
       "<Figure size 504x360 with 1 Axes>"
      ]
     },
     "metadata": {
      "needs_background": "light"
     },
     "output_type": "display_data"
    }
   ],
   "source": [
    "obj.plot_F_I(data);"
   ]
  }
 ],
 "metadata": {
  "kernelspec": {
   "display_name": "Python 3.8.13 ('adaptiv_sync')",
   "language": "python",
   "name": "python3"
  },
  "language_info": {
   "codemirror_mode": {
    "name": "ipython",
    "version": 3
   },
   "file_extension": ".py",
   "mimetype": "text/x-python",
   "name": "python",
   "nbconvert_exporter": "python",
   "pygments_lexer": "ipython3",
   "version": "3.8.13"
  },
  "orig_nbformat": 4,
  "vscode": {
   "interpreter": {
    "hash": "8126bcdcce999c63abd0862cb75989290bd292d4682c4523e3665b3904000a96"
   }
  }
 },
 "nbformat": 4,
 "nbformat_minor": 2
}
